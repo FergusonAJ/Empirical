{
 "cells": [
  {
   "cell_type": "code",
   "execution_count": 10,
   "metadata": {
    "collapsed": false
   },
   "outputs": [
    {
     "name": "stdout",
     "output_type": "stream",
     "text": [
      "Populating the interactive namespace from numpy and matplotlib\n"
     ]
    },
    {
     "data": {
      "text/html": [
       "<div>\n",
       "<table border=\"1\" class=\"dataframe\">\n",
       "  <thead>\n",
       "    <tr style=\"text-align: right;\">\n",
       "      <th></th>\n",
       "      <th>update</th>\n",
       "      <th>avg_age</th>\n",
       "      <th>max_age</th>\n",
       "      <th>avg_coop</th>\n",
       "      <th>avg_points</th>\n",
       "      <th>percenttruthful_defector</th>\n",
       "      <th>percentdonator</th>\n",
       "      <th>grid_usage</th>\n",
       "      <th>available_private_pts</th>\n",
       "      <th>replicant</th>\n",
       "      <th>grid_width</th>\n",
       "    </tr>\n",
       "  </thead>\n",
       "  <tbody>\n",
       "    <tr>\n",
       "      <th>0</th>\n",
       "      <td>0</td>\n",
       "      <td>0.0000</td>\n",
       "      <td>0</td>\n",
       "      <td>0.500000</td>\n",
       "      <td>0.0000</td>\n",
       "      <td>0.500000</td>\n",
       "      <td>0.500000</td>\n",
       "      <td>0.100000</td>\n",
       "      <td>75000.0</td>\n",
       "      <td>0</td>\n",
       "      <td>60</td>\n",
       "    </tr>\n",
       "    <tr>\n",
       "      <th>1</th>\n",
       "      <td>10</td>\n",
       "      <td>10.0000</td>\n",
       "      <td>10</td>\n",
       "      <td>0.513043</td>\n",
       "      <td>10.0000</td>\n",
       "      <td>0.486957</td>\n",
       "      <td>0.513043</td>\n",
       "      <td>0.095833</td>\n",
       "      <td>100000000.0</td>\n",
       "      <td>0</td>\n",
       "      <td>60</td>\n",
       "    </tr>\n",
       "    <tr>\n",
       "      <th>2</th>\n",
       "      <td>20</td>\n",
       "      <td>20.0000</td>\n",
       "      <td>20</td>\n",
       "      <td>0.513043</td>\n",
       "      <td>20.0000</td>\n",
       "      <td>0.486957</td>\n",
       "      <td>0.513043</td>\n",
       "      <td>0.095833</td>\n",
       "      <td>100000000.0</td>\n",
       "      <td>0</td>\n",
       "      <td>60</td>\n",
       "    </tr>\n",
       "    <tr>\n",
       "      <th>3</th>\n",
       "      <td>30</td>\n",
       "      <td>13.0939</td>\n",
       "      <td>30</td>\n",
       "      <td>0.585714</td>\n",
       "      <td>15.1918</td>\n",
       "      <td>0.414286</td>\n",
       "      <td>0.585714</td>\n",
       "      <td>0.136111</td>\n",
       "      <td>100000000.0</td>\n",
       "      <td>0</td>\n",
       "      <td>60</td>\n",
       "    </tr>\n",
       "    <tr>\n",
       "      <th>4</th>\n",
       "      <td>40</td>\n",
       "      <td>19.0432</td>\n",
       "      <td>40</td>\n",
       "      <td>0.556391</td>\n",
       "      <td>21.0451</td>\n",
       "      <td>0.443609</td>\n",
       "      <td>0.556391</td>\n",
       "      <td>0.147778</td>\n",
       "      <td>100000000.0</td>\n",
       "      <td>0</td>\n",
       "      <td>60</td>\n",
       "    </tr>\n",
       "  </tbody>\n",
       "</table>\n",
       "</div>"
      ],
      "text/plain": [
       "   update  avg_age  max_age  avg_coop  avg_points  percenttruthful_defector  \\\n",
       "0       0   0.0000        0  0.500000      0.0000                  0.500000   \n",
       "1      10  10.0000       10  0.513043     10.0000                  0.486957   \n",
       "2      20  20.0000       20  0.513043     20.0000                  0.486957   \n",
       "3      30  13.0939       30  0.585714     15.1918                  0.414286   \n",
       "4      40  19.0432       40  0.556391     21.0451                  0.443609   \n",
       "\n",
       "   percentdonator  grid_usage  available_private_pts  replicant  grid_width  \n",
       "0        0.500000    0.100000                75000.0          0          60  \n",
       "1        0.513043    0.095833            100000000.0          0          60  \n",
       "2        0.513043    0.095833            100000000.0          0          60  \n",
       "3        0.585714    0.136111            100000000.0          0          60  \n",
       "4        0.556391    0.147778            100000000.0          0          60  "
      ]
     },
     "execution_count": 10,
     "metadata": {},
     "output_type": "execute_result"
    },
    {
     "data": {
      "text/plain": [
       "<matplotlib.figure.Figure at 0x7f1e311bd080>"
      ]
     },
     "metadata": {},
     "output_type": "display_data"
    }
   ],
   "source": [
    "import pandas as pd\n",
    "from collections import defaultdict\n",
    "\n",
    "import seaborn as sns\n",
    "import numpy as np\n",
    "import matplotlib.pyplot as plt\n",
    "%matplotlib inline\n",
    "%pylab inline\n",
    "\n",
    "sns.set_context(\"notebook\", font_scale=1.5, rc={\"lines.linewidth\": 2.5})\n",
    "\n",
    "pylab.rcParams['figure.figsize'] = (20, 10)\n",
    "\n",
    "plt.subplots_adjust(top=0.9)\n",
    "\n",
    "folder = '/home/jgf/git/Empirical/examples/evo/concept/nomap/standard-grid-noevo_defc_vs_coop/'\n",
    "\n",
    "num_reps = 10\n",
    "\n",
    "base_template = \"{tlf}{parb}{paropt}/{struct}-{rep}-quorum.csv\"\n",
    "\n",
    "options = [60]\n",
    "\n",
    "loaded_replicants = []\n",
    "loaded_parent = []\n",
    "loaded_base = []\n",
    "loaded_children = []\n",
    "\n",
    "parent_base = 'GRID_X_'\n",
    "structure = ['standard-grid-quorum.out']\n",
    "\n",
    "for parent in options:\n",
    "    for replicant in range(0,num_reps):\n",
    "        try:\n",
    "            loaded = pd.read_csv(base_template.format(tlf=folder,\n",
    "                                                      parb=parent_base,\n",
    "                                                      paropt=parent,\n",
    "                                                      struct=structure[0],\n",
    "                                                      rep=replicant), sep=' ')\n",
    "        except Exception as err:\n",
    "            print(\"Apparently there isn't anything in there\")\n",
    "            print(base_template.format(tlf=folder,\n",
    "                                      parb=parent_base,\n",
    "                                      paropt=parent,\n",
    "                                      struct=structure[0],\n",
    "                                      rep=replicant))\n",
    "            continue\n",
    "\n",
    "        loaded['replicant'] = replicant\n",
    "        loaded_children.append(loaded)\n",
    "    loaded_parent = pd.concat(loaded_children)\n",
    "    loaded_parent['grid_width'] = parent\n",
    "    loaded_children = []\n",
    "    loaded_base.append(loaded_parent)\n",
    "\n",
    "squished_base = pd.concat(loaded_base)\n",
    "squished_base = squished_base.drop_duplicates()\n",
    "squished_base.head()"
   ]
  },
  {
   "cell_type": "code",
   "execution_count": 11,
   "metadata": {
    "collapsed": false
   },
   "outputs": [
    {
     "data": {
      "image/png": "[encoded data removed]",
      "text/plain": [
       "<matplotlib.figure.Figure at 0x7f1e30f04908>"
      ]
     },
     "metadata": {},
     "output_type": "display_data"
    }
   ],
   "source": [
    "sns.plt.suptitle(\"evo disabled cooperator vs defector\")\n",
    "ax = sns.tsplot( time=\"update\", value=\"avg_coop\", unit=\"replicant\", \n",
    "    condition=\"grid_width\", ci=95, data=squished_base, color=\"hls\")\n",
    "ax.patch.set_visible(False)\n",
    "#squished_base[ (squished_base['replicant'] == 5) &  (squished_base[\"Subgrid Size\"] == 10) & (squished_base['update'] == 10)]"
   ]
  },
  {
   "cell_type": "code",
   "execution_count": null,
   "metadata": {
    "collapsed": true
   },
   "outputs": [],
   "source": []
  }
 ],
 "metadata": {
  "kernelspec": {
   "display_name": "Python 3",
   "language": "python",
   "name": "python3"
  },
  "language_info": {
   "codemirror_mode": {
    "name": "ipython",
    "version": 3
   },
   "file_extension": ".py",
   "mimetype": "text/x-python",
   "name": "python",
   "nbconvert_exporter": "python",
   "pygments_lexer": "ipython3",
   "version": "3.5.1"
  }
 },
 "nbformat": 4,
 "nbformat_minor": 0
}
