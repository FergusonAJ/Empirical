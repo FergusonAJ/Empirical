{
 "cells": [
  {
   "cell_type": "code",
   "execution_count": null,
   "metadata": {
    "collapsed": false
   },
   "outputs": [
    {
     "name": "stdout",
     "output_type": "stream",
     "text": [
      "Populating the interactive namespace from numpy and matplotlib\n",
      "Apparently there isn't anything in there\n",
      "PoC-Limited-resources-threshold-sweep/LO_AI_WEIGHT_0.3/HI_AI_WEIGHT_0.2/WHICH_OTHER_1/standard-6-quorum.csv\n",
      "Apparently there isn't anything in there\n",
      "PoC-Limited-resources-threshold-sweep/LO_AI_WEIGHT_0.3/HI_AI_WEIGHT_0.4/WHICH_OTHER_1/standard-8-quorum.csv\n",
      "Apparently there isn't anything in there\n",
      "PoC-Limited-resources-threshold-sweep/LO_AI_WEIGHT_0.4/HI_AI_WEIGHT_0.5/WHICH_OTHER_1/standard-4-quorum.csv\n",
      "Apparently there isn't anything in there\n",
      "PoC-Limited-resources-threshold-sweep/LO_AI_WEIGHT_0.6/HI_AI_WEIGHT_0.7/WHICH_OTHER_1/standard-5-quorum.csv\n"
     ]
    }
   ],
   "source": [
    "import pandas as pd\n",
    "from collections import defaultdict\n",
    "\n",
    "import seaborn as sns\n",
    "import numpy as np\n",
    "import matplotlib.pyplot as plt\n",
    "%matplotlib inline\n",
    "%pylab inline\n",
    "\n",
    "sns.set_context(\"notebook\", font_scale=1.5, rc={\"lines.linewidth\": 2.5})\n",
    "\n",
    "pylab.rcParams['figure.figsize'] = (14, 8)\n",
    "\n",
    "plt.subplots_adjust(top=0.9)\n",
    "\n",
    "folder = 'PoC-Limited-resources-threshold-sweep/'\n",
    "\n",
    "parent_base = 'LO_AI_WEIGHT_'\n",
    "child_base = 'HI_AI_WEIGHT_'\n",
    "underlying = \"WHICH_OTHER_1\"\n",
    "structure = 'standard'\n",
    "num_reps = 10\n",
    "\n",
    "base_template = \"{tlf}{parb}{paropt}/{cldb}{cldopt}/{und}/{struct}-{rep}-quorum.csv\"\n",
    "\n",
    "options = ['0.1', '0.2', '0.3', '0.4', '0.5', '0.6', '0.7', '0.8', '0.9', '1.0']\n",
    "\n",
    "loaded_replicants = []\n",
    "loaded_children = []\n",
    "loaded_parent = []\n",
    "loaded_base = []\n",
    "\n",
    "for parent in options:\n",
    "    for child in options:\n",
    "        for replicant in range(0,num_reps):\n",
    "            try:\n",
    "                loaded = pd.read_csv(base_template.format(tlf=folder,\n",
    "                                                          parb=parent_base,\n",
    "                                                          paropt=parent,\n",
    "                                                          cldb=child_base,\n",
    "                                                          cldopt=child,\n",
    "                                                          und=underlying,\n",
    "                                                          struct=structure,\n",
    "                                                          rep=replicant))\n",
    "            except Exception as err:\n",
    "                print(\"Apparently there isn't anything in there\")\n",
    "                print(base_template.format(tlf=folder,\n",
    "                                          parb=parent_base,\n",
    "                                          paropt=parent,\n",
    "                                          cldb=child_base,\n",
    "                                          cldopt=child,\n",
    "                                          und=underlying,\n",
    "                                          struct=structure,\n",
    "                                          rep=replicant))\n",
    "                \n",
    "            loaded['replicant'] = replicant\n",
    "            loaded_children.append(loaded)\n",
    "        squished_child = pd.concat(loaded_children)\n",
    "        squished_child['HI AI Threshold'] = child\n",
    "        loaded_parent.append(squished_child)\n",
    "    \n",
    "    squished_parent = pd.concat(loaded_parent)\n",
    "    squished_parent['LO AI Threshold'] = parent\n",
    "    loaded_base.append(squished_parent)\n",
    "\n",
    "squished_base = pd.concat(loaded_base)\n",
    "squished_base.head()\n",
    "            "
   ]
  },
  {
   "cell_type": "code",
   "execution_count": null,
   "metadata": {
    "collapsed": true
   },
   "outputs": [],
   "source": []
  }
 ],
 "metadata": {
  "kernelspec": {
   "display_name": "Python 3",
   "language": "python",
   "name": "python3"
  },
  "language_info": {
   "codemirror_mode": {
    "name": "ipython",
    "version": 3
   },
   "file_extension": ".py",
   "mimetype": "text/x-python",
   "name": "python",
   "nbconvert_exporter": "python",
   "pygments_lexer": "ipython3",
   "version": "3.5.1"
  }
 },
 "nbformat": 4,
 "nbformat_minor": 0
}
