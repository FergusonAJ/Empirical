{
 "cells": [
  {
   "cell_type": "code",
   "execution_count": 11,
   "metadata": {
    "collapsed": false
   },
   "outputs": [
    {
     "data": {
      "text/html": [
       "<div>\n",
       "<table border=\"1\" class=\"dataframe\">\n",
       "  <thead>\n",
       "    <tr style=\"text-align: right;\">\n",
       "      <th></th>\n",
       "      <th>update</th>\n",
       "      <th>avg_age</th>\n",
       "      <th>max_age</th>\n",
       "      <th>avg_coop</th>\n",
       "      <th>avg_points</th>\n",
       "      <th>percent_defector</th>\n",
       "      <th>donator</th>\n",
       "      <th>replicant</th>\n",
       "      <th>config</th>\n",
       "    </tr>\n",
       "  </thead>\n",
       "  <tbody>\n",
       "    <tr>\n",
       "      <th>0</th>\n",
       "      <td>0</td>\n",
       "      <td>0.00000</td>\n",
       "      <td>0</td>\n",
       "      <td>0.990000</td>\n",
       "      <td>0.00000</td>\n",
       "      <td>0.010000</td>\n",
       "      <td>0.990000</td>\n",
       "      <td>0</td>\n",
       "      <td>standard grid (99% coop)</td>\n",
       "    </tr>\n",
       "    <tr>\n",
       "      <th>1</th>\n",
       "      <td>10</td>\n",
       "      <td>10.00000</td>\n",
       "      <td>10</td>\n",
       "      <td>0.990000</td>\n",
       "      <td>10.00000</td>\n",
       "      <td>0.010000</td>\n",
       "      <td>0.990000</td>\n",
       "      <td>0</td>\n",
       "      <td>standard grid (99% coop)</td>\n",
       "    </tr>\n",
       "    <tr>\n",
       "      <th>2</th>\n",
       "      <td>20</td>\n",
       "      <td>20.00000</td>\n",
       "      <td>20</td>\n",
       "      <td>0.990000</td>\n",
       "      <td>20.00000</td>\n",
       "      <td>0.010000</td>\n",
       "      <td>0.990000</td>\n",
       "      <td>0</td>\n",
       "      <td>standard grid (99% coop)</td>\n",
       "    </tr>\n",
       "    <tr>\n",
       "      <th>3</th>\n",
       "      <td>30</td>\n",
       "      <td>4.09611</td>\n",
       "      <td>30</td>\n",
       "      <td>0.982778</td>\n",
       "      <td>8.79583</td>\n",
       "      <td>0.017222</td>\n",
       "      <td>0.982778</td>\n",
       "      <td>0</td>\n",
       "      <td>standard grid (99% coop)</td>\n",
       "    </tr>\n",
       "    <tr>\n",
       "      <th>4</th>\n",
       "      <td>40</td>\n",
       "      <td>2.81306</td>\n",
       "      <td>40</td>\n",
       "      <td>0.972222</td>\n",
       "      <td>19.20940</td>\n",
       "      <td>0.027778</td>\n",
       "      <td>0.972222</td>\n",
       "      <td>0</td>\n",
       "      <td>standard grid (99% coop)</td>\n",
       "    </tr>\n",
       "  </tbody>\n",
       "</table>\n",
       "</div>"
      ],
      "text/plain": [
       "   update   avg_age  max_age  avg_coop  avg_points  percent_defector  \\\n",
       "0       0   0.00000        0  0.990000     0.00000          0.010000   \n",
       "1      10  10.00000       10  0.990000    10.00000          0.010000   \n",
       "2      20  20.00000       20  0.990000    20.00000          0.010000   \n",
       "3      30   4.09611       30  0.982778     8.79583          0.017222   \n",
       "4      40   2.81306       40  0.972222    19.20940          0.027778   \n",
       "\n",
       "    donator replicant                    config  \n",
       "0  0.990000         0  standard grid (99% coop)  \n",
       "1  0.990000         0  standard grid (99% coop)  \n",
       "2  0.990000         0  standard grid (99% coop)  \n",
       "3  0.982778         0  standard grid (99% coop)  \n",
       "4  0.972222         0  standard grid (99% coop)  "
      ]
     },
     "execution_count": 11,
     "metadata": {},
     "output_type": "execute_result"
    }
   ],
   "source": [
    "import pandas as pd\n",
    "from collections import defaultdict\n",
    "\n",
    "loaded = defaultdict(list)\n",
    "squished = []\n",
    "\n",
    "file_labels = {\n",
    "    \"glad-mixed-sweep-1\": \"mixed grid (99% coop)\",\n",
    "    \"glad-standard-sweep-1\": \"standard grid (99% coop)\"\n",
    "}\n",
    "\n",
    "#file_labels = dict()\n",
    "\n",
    "#for key in file_base_labels:\n",
    "#    for i in range(1, 10):\n",
    "#        file_labels[key + \"-\" + str(i)] = file_base_labels[key] + \" \" + str(i) + \"0 %\"\n",
    "        \n",
    "#print(file_labels)\n",
    "\n",
    "folder = \"./99-hostile-orgs-on-the-grid/\"\n",
    "\n",
    "num_files = 20\n",
    "\n",
    "\n",
    "for i in range(num_files):\n",
    "    for key in file_labels:\n",
    "        moo = pd.read_csv(\"{}{}-{}-quorum.csv\".format(folder, key, i), skipinitialspace=True)\n",
    "        moo['replicant'] = \"{0}\".format(i)\n",
    "        \n",
    "        #moo.set_index([\"update\"])\n",
    "        loaded[key].append(moo)\n",
    "\n",
    "for key in file_labels:\n",
    "    squash = pd.concat(loaded[key], axis=0)\n",
    "    squash[\"config\"] = file_labels[key]\n",
    "    #print(\"Key {} and value{}\".format(key, file_labels[key]))\n",
    "    squished.append(squash)\n",
    "    \n",
    "super_squished = pd.concat(squished)\n",
    "#super_squished = pd.concat([squished_coop, squished_balanced])\n",
    "super_squished.head()"
   ]
  },
  {
   "cell_type": "code",
   "execution_count": 14,
   "metadata": {
    "collapsed": false
   },
   "outputs": [
    {
     "name": "stdout",
     "output_type": "stream",
     "text": [
      "Populating the interactive namespace from numpy and matplotlib\n"
     ]
    },
    {
     "data": {
      "text/plain": [
       "[<matplotlib.text.Text at 0x7f7b60e5a278>]"
      ]
     },
     "execution_count": 14,
     "metadata": {},
     "output_type": "execute_result"
    },
    {
     "data": {
      "image/png": "[encoded data removed]",
      "text/plain": [
       "<matplotlib.figure.Figure at 0x7f7b60ef23c8>"
      ]
     },
     "metadata": {},
     "output_type": "display_data"
    }
   ],
   "source": [
    "import seaborn as sns\n",
    "import numpy as np\n",
    "import matplotlib.pyplot as plt\n",
    "%matplotlib inline\n",
    "%pylab inline\n",
    "\n",
    "sns.set_context(\"notebook\", font_scale=1.5, rc={\"lines.linewidth\": 2.5})\n",
    "\n",
    "pylab.rcParams['figure.figsize'] = (14, 8)\n",
    "\n",
    "plt.subplots_adjust(top=0.9)\n",
    "sns.plt.suptitle(\"Defector Portion of Population\")\n",
    "ax = sns.tsplot( time=\"update\", value=\"percent_defector\", unit=\"replicant\", \n",
    "           condition=\"config\", data=super_squished, color=\"hls\")\n",
    "ax.set(ylabel=\"Ratio of Defectors\")"
   ]
  },
  {
   "cell_type": "code",
   "execution_count": null,
   "metadata": {
    "collapsed": true
   },
   "outputs": [],
   "source": []
  }
 ],
 "metadata": {
  "kernelspec": {
   "display_name": "Python 3",
   "language": "python",
   "name": "python3"
  },
  "language_info": {
   "codemirror_mode": {
    "name": "ipython",
    "version": 3
   },
   "file_extension": ".py",
   "mimetype": "text/x-python",
   "name": "python",
   "nbconvert_exporter": "python",
   "pygments_lexer": "ipython3",
   "version": "3.5.1"
  }
 },
 "nbformat": 4,
 "nbformat_minor": 0
}
