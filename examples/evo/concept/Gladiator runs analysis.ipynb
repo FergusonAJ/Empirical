{
 "cells": [
  {
   "cell_type": "code",
   "execution_count": 2,
   "metadata": {
    "collapsed": false
   },
   "outputs": [
    {
     "name": "stdout",
     "output_type": "stream",
     "text": [
      "{'gladiator-mixed': 'mixed grid', 'gladiator-standard': 'standard grid'}\n"
     ]
    },
    {
     "data": {
      "text/html": [
       "<div>\n",
       "<table border=\"1\" class=\"dataframe\">\n",
       "  <thead>\n",
       "    <tr style=\"text-align: right;\">\n",
       "      <th></th>\n",
       "      <th>update</th>\n",
       "      <th>avg_age</th>\n",
       "      <th>max_age</th>\n",
       "      <th>avg_coop</th>\n",
       "      <th>avg_points</th>\n",
       "      <th>percent_defector</th>\n",
       "      <th>percent_donator</th>\n",
       "      <th>replicant</th>\n",
       "      <th>config</th>\n",
       "    </tr>\n",
       "  </thead>\n",
       "  <tbody>\n",
       "    <tr>\n",
       "      <th>0</th>\n",
       "      <td>0</td>\n",
       "      <td>0.0000</td>\n",
       "      <td>0</td>\n",
       "      <td>0.623309</td>\n",
       "      <td>0.0000</td>\n",
       "      <td>0.376691</td>\n",
       "      <td>0.623309</td>\n",
       "      <td>0</td>\n",
       "      <td>mixed grid</td>\n",
       "    </tr>\n",
       "    <tr>\n",
       "      <th>1</th>\n",
       "      <td>10</td>\n",
       "      <td>10.0000</td>\n",
       "      <td>10</td>\n",
       "      <td>0.623309</td>\n",
       "      <td>10.0000</td>\n",
       "      <td>0.376691</td>\n",
       "      <td>0.623309</td>\n",
       "      <td>0</td>\n",
       "      <td>mixed grid</td>\n",
       "    </tr>\n",
       "    <tr>\n",
       "      <th>2</th>\n",
       "      <td>20</td>\n",
       "      <td>20.0000</td>\n",
       "      <td>20</td>\n",
       "      <td>0.623309</td>\n",
       "      <td>20.0000</td>\n",
       "      <td>0.376691</td>\n",
       "      <td>0.623309</td>\n",
       "      <td>0</td>\n",
       "      <td>mixed grid</td>\n",
       "    </tr>\n",
       "    <tr>\n",
       "      <th>3</th>\n",
       "      <td>30</td>\n",
       "      <td>9.2086</td>\n",
       "      <td>30</td>\n",
       "      <td>0.425806</td>\n",
       "      <td>18.4957</td>\n",
       "      <td>0.574194</td>\n",
       "      <td>0.425806</td>\n",
       "      <td>0</td>\n",
       "      <td>mixed grid</td>\n",
       "    </tr>\n",
       "    <tr>\n",
       "      <th>4</th>\n",
       "      <td>40</td>\n",
       "      <td>10.6824</td>\n",
       "      <td>40</td>\n",
       "      <td>0.287193</td>\n",
       "      <td>17.2060</td>\n",
       "      <td>0.712807</td>\n",
       "      <td>0.287193</td>\n",
       "      <td>0</td>\n",
       "      <td>mixed grid</td>\n",
       "    </tr>\n",
       "  </tbody>\n",
       "</table>\n",
       "</div>"
      ],
      "text/plain": [
       "   update  avg_age  max_age  avg_coop  avg_points  percent_defector  \\\n",
       "0       0   0.0000        0  0.623309      0.0000          0.376691   \n",
       "1      10  10.0000       10  0.623309     10.0000          0.376691   \n",
       "2      20  20.0000       20  0.623309     20.0000          0.376691   \n",
       "3      30   9.2086       30  0.425806     18.4957          0.574194   \n",
       "4      40  10.6824       40  0.287193     17.2060          0.712807   \n",
       "\n",
       "   percent_donator replicant      config  \n",
       "0         0.623309         0  mixed grid  \n",
       "1         0.623309         0  mixed grid  \n",
       "2         0.623309         0  mixed grid  \n",
       "3         0.425806         0  mixed grid  \n",
       "4         0.287193         0  mixed grid  "
      ]
     },
     "execution_count": 2,
     "metadata": {},
     "output_type": "execute_result"
    }
   ],
   "source": [
    "import pandas as pd\n",
    "from collections import defaultdict\n",
    "\n",
    "loaded = defaultdict(list)\n",
    "squished = []\n",
    "\n",
    "file_labels = {\n",
    "    \"gladiator-mixed\": \"mixed grid\",\n",
    "    \"gladiator-standard\": \"standard grid\"\n",
    "}\n",
    "\n",
    "folder = \"./gladiator-runs/\"\n",
    "\n",
    "num_files = 20\n",
    "\n",
    "print(file_labels)\n",
    "\n",
    "for i in range(num_files):\n",
    "    \n",
    "    for key in file_labels:\n",
    "        moo = pd.read_csv(\"{}{}-{}-quorum.csv\".format(folder, key, i), skipinitialspace=True)\n",
    "        moo['replicant'] = \"{0}\".format(i)\n",
    "        \n",
    "        #moo.set_index([\"update\"])\n",
    "        loaded[key].append(moo)\n",
    "\n",
    "for key in file_labels:\n",
    "    squash = pd.concat(loaded[key], axis=0)\n",
    "    squash[\"config\"] = file_labels[key]\n",
    "    #print(\"Key {} and value{}\".format(key, file_labels[key]))\n",
    "    squished.append(squash)\n",
    "    \n",
    "super_squished = pd.concat(squished)\n",
    "#super_squished = pd.concat([squished_coop, squished_balanced])\n",
    "super_squished.head()"
   ]
  },
  {
   "cell_type": "code",
   "execution_count": 16,
   "metadata": {
    "collapsed": false
   },
   "outputs": [
    {
     "name": "stdout",
     "output_type": "stream",
     "text": [
      "Populating the interactive namespace from numpy and matplotlib\n"
     ]
    },
    {
     "data": {
      "text/plain": [
       "<matplotlib.axes._subplots.AxesSubplot at 0x7fcbd061a7f0>"
      ]
     },
     "execution_count": 16,
     "metadata": {},
     "output_type": "execute_result"
    },
    {
     "data": {
      "image/png": "[encoded data removed]",
      "text/plain": [
       "<matplotlib.figure.Figure at 0x7fcbd04c5ac8>"
      ]
     },
     "metadata": {},
     "output_type": "display_data"
    }
   ],
   "source": [
    "import seaborn as sns\n",
    "import numpy as np\n",
    "import matplotlib.pyplot as plt\n",
    "%matplotlib inline\n",
    "%pylab inline\n",
    "\n",
    "sns.set_context(\"notebook\", font_scale=1.5, rc={\"lines.linewidth\": 2.5})\n",
    "\n",
    "pylab.rcParams['figure.figsize'] = (14, 8)\n",
    "\n",
    "plt.subplots_adjust(top=0.9)\n",
    "sns.plt.suptitle(\"average chance to co-operate\")\n",
    "sns.tsplot( time=\"update\", value=\"avg_coop\", unit=\"replicant\", \n",
    "           condition=\"config\", data=super_squished, color=\"hls\")"
   ]
  },
  {
   "cell_type": "code",
   "execution_count": null,
   "metadata": {
    "collapsed": true
   },
   "outputs": [],
   "source": []
  }
 ],
 "metadata": {
  "kernelspec": {
   "display_name": "Python 3",
   "language": "python",
   "name": "python3"
  },
  "language_info": {
   "codemirror_mode": {
    "name": "ipython",
    "version": 3
   },
   "file_extension": ".py",
   "mimetype": "text/x-python",
   "name": "python",
   "nbconvert_exporter": "python",
   "pygments_lexer": "ipython3",
   "version": "3.5.1"
  }
 },
 "nbformat": 4,
 "nbformat_minor": 0
}
